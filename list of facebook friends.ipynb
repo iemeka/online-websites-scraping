{
 "cells": [
  {
   "cell_type": "code",
   "execution_count": 1,
   "metadata": {},
   "outputs": [],
   "source": [
    "import time\n",
    "import os\n",
    "from selenium import webdriver\n",
    "from selenium.common.exceptions import UnexpectedAlertPresentException\n",
    "from selenium.webdriver.common.keys import Keys\n",
    "from bs4 import BeautifulSoup\n",
    "import re"
   ]
  },
  {
   "cell_type": "code",
   "execution_count": 2,
   "metadata": {},
   "outputs": [],
   "source": [
    "linkToCdir = os.path.dirname('__file__')\n",
    "pathToTextFiles = os.path.dirname(os.path.join(linkToCdir, 'facebook-friends.txt/'))\n",
    "g = open(pathToTextFiles,\"a+\")\n"
   ]
  },
  {
   "cell_type": "code",
   "execution_count": 3,
   "metadata": {},
   "outputs": [],
   "source": [
    "def openFrindsPage():\n",
    "    driver.maximize_window()\n",
    "    driver.implicitly_wait(20)\n",
    "    driver.get(\"http://www.facebook.com\")\n",
    "    driver.find_element_by_id(\"email\").clear()\n",
    "    driver.find_element_by_id(\"email\").send_keys(\"07035236924\")\n",
    "    driver.find_element_by_id(\"pass\").send_keys(\"trinity3\")\n",
    "    driver.find_element_by_id(\"loginbutton\").click()\n",
    "    driver.find_element_by_xpath('//*[@id=\"navItem_1572366616371383\"]/a/div').click()\n",
    "    driver.find_element_by_xpath('//*[@id=\"pagelet_bookmark_seeall\"]/div/div/div[1]/div/div[1]/div/a[2]').click()\n",
    "    return scrollToLastFriend()"
   ]
  },
  {
   "cell_type": "code",
   "execution_count": 4,
   "metadata": {},
   "outputs": [],
   "source": [
    "def scrollToLastFriend():\n",
    "    text = driver.page_source.find(\"More About You\")\n",
    "    while text == -1:\n",
    "        driver.execute_script(\"window.scrollTo(0, document.body.scrollHeight);\")\n",
    "        text = driver.page_source.find(\"More About You\")\n",
    "    return getFriendsList()"
   ]
  },
  {
   "cell_type": "code",
   "execution_count": 5,
   "metadata": {},
   "outputs": [],
   "source": [
    "def getFriendsList():\n",
    "    my_soup = BeautifulSoup(driver.page_source, 'lxml')\n",
    "    data = my_soup.find_all('div', class_=\"fsl fwb fcb\")\n",
    "    count = 0\n",
    "    for i in data:\n",
    "        new = re.findall('(?<=hc_location=friends_tab\">).*?(?=</a>)', str(i))\n",
    "        for j in new:\n",
    "            print j\n",
    "            count +=1\n",
    "            names = j + \"\\n\"\n",
    "            g.write(names)\n",
    "    return count"
   ]
  },
  {
   "cell_type": "code",
   "execution_count": null,
   "metadata": {
    "scrolled": true
   },
   "outputs": [],
   "source": [
    "driver = webdriver.Chrome(\"/home/emeka/codes/tools/chromedriver\")\n",
    "openFrindsPage()"
   ]
  },
  {
   "cell_type": "code",
   "execution_count": null,
   "metadata": {},
   "outputs": [],
   "source": [
    "getFriendsList()"
   ]
  }
 ],
 "metadata": {
  "kernelspec": {
   "display_name": "Python 2",
   "language": "python",
   "name": "python2"
  },
  "language_info": {
   "codemirror_mode": {
    "name": "ipython",
    "version": 2
   },
   "file_extension": ".py",
   "mimetype": "text/x-python",
   "name": "python",
   "nbconvert_exporter": "python",
   "pygments_lexer": "ipython2",
   "version": "2.7.15rc1"
  }
 },
 "nbformat": 4,
 "nbformat_minor": 2
}
